{
 "cells": [
  {
   "cell_type": "code",
   "execution_count": 1,
   "id": "7f2ecf7d",
   "metadata": {
    "_cell_guid": "b1076dfc-b9ad-4769-8c92-a6c4dae69d19",
    "_uuid": "8f2839f25d086af736a60e9eeb907d3b93b6e0e5",
    "execution": {
     "iopub.execute_input": "2024-07-09T14:36:43.396548Z",
     "iopub.status.busy": "2024-07-09T14:36:43.395994Z",
     "iopub.status.idle": "2024-07-09T14:36:44.447935Z",
     "shell.execute_reply": "2024-07-09T14:36:44.446684Z"
    },
    "papermill": {
     "duration": 1.068549,
     "end_time": "2024-07-09T14:36:44.451193",
     "exception": false,
     "start_time": "2024-07-09T14:36:43.382644",
     "status": "completed"
    },
    "tags": []
   },
   "outputs": [],
   "source": [
    "# This Python 3 environment comes with many helpful analytics libraries installed\n",
    "# It is defined by the kaggle/python Docker image: https://github.com/kaggle/docker-python\n",
    "# For example, here's several helpful packages to load\n",
    "\n",
    "import numpy as np # linear algebra\n",
    "import pandas as pd # data processing, CSV file I/O (e.g. pd.read_csv)\n",
    "\n",
    "# Input data files are available in the read-only \"../input/\" directory\n",
    "# For example, running this (by clicking run or pressing Shift+Enter) will list all files under the input directory\n",
    "\n",
    "import os\n",
    "for dirname, _, filenames in os.walk('/kaggle/input'):\n",
    "    for filename in filenames:\n",
    "        print(os.path.join(dirname, filename))\n",
    "\n",
    "# You can write up to 20GB to the current directory (/kaggle/working/) that gets preserved as output when you create a version using \"Save & Run All\" \n",
    "# You can also write temporary files to /kaggle/temp/, but they won't be saved outside of the current session"
   ]
  },
  {
   "cell_type": "code",
   "execution_count": 2,
   "id": "c909934a",
   "metadata": {
    "execution": {
     "iopub.execute_input": "2024-07-09T14:36:44.473220Z",
     "iopub.status.busy": "2024-07-09T14:36:44.472540Z",
     "iopub.status.idle": "2024-07-09T14:36:44.486199Z",
     "shell.execute_reply": "2024-07-09T14:36:44.485002Z"
    },
    "papermill": {
     "duration": 0.028116,
     "end_time": "2024-07-09T14:36:44.489251",
     "exception": false,
     "start_time": "2024-07-09T14:36:44.461135",
     "status": "completed"
    },
    "tags": []
   },
   "outputs": [],
   "source": [
    "faq=\"\"\"About the Program\n",
    "What is the course fee for  Data Science Mentorship Program (DSMP 2023)\n",
    "The course follows a monthly subscription model where you have to make monthly payments of Rs 799/month.\n",
    "What is the total duration of the course?\n",
    "The total duration of the course is 7 months. So the total course fee becomes 799*7 = Rs 5600(approx.)\n",
    "What is the syllabus of the mentorship program?\n",
    "We will be covering the following modules:\n",
    "Python Fundamentals\n",
    "Python libraries for Data Science\n",
    "Data Analysis\n",
    "SQL for Data Science\n",
    "Maths for Machine Learning\n",
    "ML Algorithms\n",
    "Practical ML\n",
    "MLOPs\n",
    "Case studies\n",
    "You can check the detailed syllabus here - https://learnwith.campusx.in/courses/CampusX-Data-Science-Mentorship-Program-637339afe4b0615a1bbed390\n",
    "Will Deep Learning and NLP be a part of this program?\n",
    "No, NLP and Deep Learning both are not a part of this program’s curriculum.\n",
    "What if I miss a live session? Will I get a recording of the session?\n",
    "Yes all our sessions are recorded, so even if you miss a session you can go back and watch the recording.\n",
    "Where can I find the class schedule?\n",
    "Checkout this google sheet to see month by month time table of the course - https://docs.google.com/spreadsheets/d/16OoTax_A6ORAeCg4emgexhqqPv3noQPYKU7RJ6ArOzk/edit?usp=sharing.\n",
    "What is the time duration of all the live sessions?\n",
    "Roughly, all the sessions last 2 hours.\n",
    "What is the language spoken by the instructor during the sessions?\n",
    "Hinglish\n",
    "How will I be informed about the upcoming class?\n",
    "You will get a mail from our side before every paid session once you become a paid user.\n",
    "Can I do this course if I am from a non-tech background?\n",
    "Yes, absolutely.\n",
    "I am late, can I join the program in the middle?\n",
    "Absolutely, you can join the program anytime.\n",
    "If I join/pay in the middle, will I be able to see all the past lectures?\n",
    "Yes, once you make the payment you will be able to see all the past content in your dashboard.\n",
    "Where do I have to submit the task?\n",
    "You don’t have to submit the task. We will provide you with the solutions, you have to self evaluate the task yourself.\n",
    "Will we do case studies in the program?\n",
    "Yes.\n",
    "Where can we contact you?\n",
    "You can mail us at nitish.campusx@gmail.com\n",
    "Payment/Registration related questions\n",
    "Where do we have to make our payments? Your YouTube channel or website?\n",
    "You have to make all your monthly payments on our website. Here is the link for our website - https://learnwith.campusx.in/\n",
    "Can we pay the entire amount of Rs 5600 all at once?\n",
    "Unfortunately no, the program follows a monthly subscription model.\n",
    "What is the validity of monthly subscription? Suppose if I pay on 15th Jan, then do I have to pay again on 1st Feb or 15th Feb\n",
    "15th Feb. The validity period is 30 days from the day you make the payment. So essentially you can join anytime you don’t have to wait for a month to end.\n",
    "What if I don’t like the course after making the payment. What is the refund policy?\n",
    "You get a 7 days refund period from the day you have made the payment.\n",
    "I am living outside India and I am not able to make the payment on the website, what should I do?\n",
    "You have to contact us by sending a mail at nitish.campusx@gmail.com\n",
    "Post registration queries\n",
    "Till when can I view the paid videos on the website?\n",
    "This one is tricky, so read carefully. You can watch the videos till your subscription is valid. Suppose you have purchased subscription on 21st Jan, you will be able to watch all the past paid sessions in the period of 21st Jan to 20th Feb. But after 21st Feb you will have to purchase the subscription again.\n",
    "But once the course is over and you have paid us Rs 5600(or 7 installments of Rs 799) you will be able to watch the paid sessions till Aug 2024.\n",
    "Why lifetime validity is not provided?\n",
    "Because of the low course fee.\n",
    "Where can I reach out in case of a doubt after the session?\n",
    "You will have to fill a google form provided in your dashboard and our team will contact you for a 1 on 1 doubt clearance session\n",
    "If I join the program late, can I still ask past week doubts?\n",
    "Yes, just select past week doubt in the doubt clearance google form.\n",
    "I am living outside India and I am not able to make the payment on the website, what should I do?\n",
    "You have to contact us by sending a mail at nitish.campusx@gmai.com\n",
    "Certificate and Placement Assistance related queries\n",
    "What is the criteria to get the certificate?\n",
    "There are 2 criterias:\n",
    "You have to pay the entire fee of Rs 5600\n",
    "You have to attempt all the course assessments.\n",
    "I am joining late. How can I pay payment of the earlier months?\n",
    "You will get a link to pay fee of earlier months in your dashboard once you pay for the current month.\n",
    "I have read that Placement assistance is a part of this program. What comes under Placement assistance?\n",
    "This is to clarify that Placement assistance does not mean Placement guarantee. So we dont guarantee you any jobs or for that matter even interview calls. So if you are planning to join this course just for placements, I am afraid you will be disappointed. Here is what comes under placement assistance\n",
    "Portfolio Building sessions\n",
    "Soft skill sessions\n",
    "Sessions with industry mentors\n",
    "Discussion on Job hunting strategies\n",
    "\"\"\""
   ]
  },
  {
   "cell_type": "code",
   "execution_count": 3,
   "id": "d0b9e671",
   "metadata": {
    "execution": {
     "iopub.execute_input": "2024-07-09T14:36:44.512357Z",
     "iopub.status.busy": "2024-07-09T14:36:44.511882Z",
     "iopub.status.idle": "2024-07-09T14:37:00.047907Z",
     "shell.execute_reply": "2024-07-09T14:37:00.046343Z"
    },
    "papermill": {
     "duration": 15.551484,
     "end_time": "2024-07-09T14:37:00.051243",
     "exception": false,
     "start_time": "2024-07-09T14:36:44.499759",
     "status": "completed"
    },
    "tags": []
   },
   "outputs": [
    {
     "name": "stderr",
     "output_type": "stream",
     "text": [
      "2024-07-09 14:36:47.019356: E external/local_xla/xla/stream_executor/cuda/cuda_dnn.cc:9261] Unable to register cuDNN factory: Attempting to register factory for plugin cuDNN when one has already been registered\n",
      "2024-07-09 14:36:47.019522: E external/local_xla/xla/stream_executor/cuda/cuda_fft.cc:607] Unable to register cuFFT factory: Attempting to register factory for plugin cuFFT when one has already been registered\n",
      "2024-07-09 14:36:47.185318: E external/local_xla/xla/stream_executor/cuda/cuda_blas.cc:1515] Unable to register cuBLAS factory: Attempting to register factory for plugin cuBLAS when one has already been registered\n"
     ]
    }
   ],
   "source": [
    "import numpy as np\n",
    "import tensorflow\n",
    "from tensorflow.keras.preprocessing.text import Tokenizer"
   ]
  },
  {
   "cell_type": "code",
   "execution_count": 4,
   "id": "4bafc58e",
   "metadata": {
    "execution": {
     "iopub.execute_input": "2024-07-09T14:37:00.073866Z",
     "iopub.status.busy": "2024-07-09T14:37:00.073063Z",
     "iopub.status.idle": "2024-07-09T14:37:00.081499Z",
     "shell.execute_reply": "2024-07-09T14:37:00.080110Z"
    },
    "papermill": {
     "duration": 0.023162,
     "end_time": "2024-07-09T14:37:00.084525",
     "exception": false,
     "start_time": "2024-07-09T14:37:00.061363",
     "status": "completed"
    },
    "tags": []
   },
   "outputs": [],
   "source": [
    "tokenizer=Tokenizer()\n",
    "tokenizer.fit_on_texts([faq])"
   ]
  },
  {
   "cell_type": "code",
   "execution_count": 5,
   "id": "e3551b4a",
   "metadata": {
    "execution": {
     "iopub.execute_input": "2024-07-09T14:37:00.106971Z",
     "iopub.status.busy": "2024-07-09T14:37:00.105690Z",
     "iopub.status.idle": "2024-07-09T14:37:00.115190Z",
     "shell.execute_reply": "2024-07-09T14:37:00.113667Z"
    },
    "papermill": {
     "duration": 0.023227,
     "end_time": "2024-07-09T14:37:00.117690",
     "exception": false,
     "start_time": "2024-07-09T14:37:00.094463",
     "status": "completed"
    },
    "tags": []
   },
   "outputs": [
    {
     "data": {
      "text/plain": [
       "282"
      ]
     },
     "execution_count": 5,
     "metadata": {},
     "output_type": "execute_result"
    }
   ],
   "source": [
    "len(tokenizer.word_index)"
   ]
  },
  {
   "cell_type": "code",
   "execution_count": null,
   "id": "89d36157",
   "metadata": {
    "papermill": {
     "duration": 0.009648,
     "end_time": "2024-07-09T14:37:00.137467",
     "exception": false,
     "start_time": "2024-07-09T14:37:00.127819",
     "status": "completed"
    },
    "tags": []
   },
   "outputs": [],
   "source": []
  },
  {
   "cell_type": "code",
   "execution_count": 6,
   "id": "8bd346f4",
   "metadata": {
    "execution": {
     "iopub.execute_input": "2024-07-09T14:37:00.159717Z",
     "iopub.status.busy": "2024-07-09T14:37:00.158790Z",
     "iopub.status.idle": "2024-07-09T14:37:00.169634Z",
     "shell.execute_reply": "2024-07-09T14:37:00.168338Z"
    },
    "papermill": {
     "duration": 0.026546,
     "end_time": "2024-07-09T14:37:00.173936",
     "exception": false,
     "start_time": "2024-07-09T14:37:00.147390",
     "status": "completed"
    },
    "tags": []
   },
   "outputs": [
    {
     "name": "stdout",
     "output_type": "stream",
     "text": [
      "--->[93, 1, 13]\n",
      "--->[11, 7, 1, 12, 42, 15, 43, 53, 68, 13, 147, 148]\n",
      "--->[1, 12, 94, 5, 44, 29, 95, 30, 2, 8, 4, 26, 44, 69, 6, 31, 70, 45]\n",
      "--->[11, 7, 1, 71, 72, 6, 1, 12]\n",
      "--->[1, 71, 72, 6, 1, 12, 7, 54, 73, 32, 1, 71, 12, 42, 149, 70, 54, 31, 55, 150]\n",
      "--->[11, 7, 1, 96, 6, 1, 68, 13]\n",
      "--->[27, 9, 19, 151, 1, 152, 153]\n",
      "--->[97, 154]\n",
      "--->[97, 155, 15, 43, 53]\n",
      "--->[43, 156]\n",
      "--->[157, 15, 43, 53]\n",
      "--->[158, 15, 159, 74]\n",
      "--->[98, 160]\n",
      "--->[161, 98]\n",
      "--->[162]\n",
      "--->[75, 99]\n",
      "--->[2, 10, 163, 1, 164, 96, 76, 77, 100, 33, 14, 165, 33, 43, 53, 68, 13, 166]\n",
      "--->[9, 101, 74, 20, 102, 19, 5, 78, 6, 21, 13]\n",
      "--->[103, 102, 20, 101, 74, 167, 56, 46, 5, 78, 6, 21, 168, 169]\n",
      "--->[11, 22, 3, 104, 5, 105, 34, 9, 3, 47, 5, 106, 6, 1, 34]\n",
      "--->[48, 16, 35, 17, 56, 170, 32, 107, 22, 2, 104, 5, 34, 2, 10, 171, 172, 20, 57, 1, 106]\n",
      "--->[30, 10, 3, 173, 1, 108, 174]\n",
      "--->[175, 21, 58, 176, 4, 79, 45, 59, 45, 109, 177, 6, 1, 12, 77, 178, 58, 60, 179, 180, 181, 182, 183, 184, 185]\n",
      "--->[11, 7, 1, 109, 72, 6, 16, 1, 105, 17]\n",
      "--->[186, 16, 1, 17, 187, 110, 188]\n",
      "--->[11, 7, 1, 189, 190, 59, 1, 191, 192, 1, 17]\n",
      "--->[193]\n",
      "--->[111, 9, 3, 19, 194, 93, 1, 195, 108]\n",
      "--->[2, 9, 47, 5, 61, 62, 35, 196, 197, 198, 36, 34, 49, 2, 199, 5, 36, 200]\n",
      "--->[10, 3, 28, 21, 12, 22, 3, 23, 62, 5, 201, 202, 203]\n",
      "--->[48, 112]\n",
      "--->[3, 23, 80, 10, 3, 37, 1, 13, 14, 1, 113]\n",
      "--->[112, 2, 10, 37, 1, 13, 114]\n",
      "--->[22, 3, 37, 24, 14, 1, 113, 9, 3, 19, 38, 4, 79, 16, 1, 50, 204]\n",
      "--->[48, 49, 2, 26, 1, 25, 2, 9, 19, 38, 4, 79, 16, 1, 50, 205, 14, 39, 81]\n",
      "--->[30, 28, 3, 8, 4, 115, 1, 82]\n",
      "--->[2, 83, 8, 4, 115, 1, 82, 27, 9, 206, 2, 116, 1, 207, 2, 8, 4, 208, 209, 1, 82, 210]\n",
      "--->[9, 27, 28, 75, 99, 14, 1, 13]\n",
      "--->[48]\n",
      "--->[30, 10, 27, 63, 2]\n",
      "--->[2, 10, 61, 64, 65, 84, 33, 117, 60]\n",
      "--->[25, 118, 119, 211]\n",
      "--->[30, 28, 27, 8, 4, 26, 35, 69, 39, 212, 213, 66, 40]\n",
      "--->[2, 8, 4, 26, 16, 39, 44, 69, 18, 35, 40, 76, 7, 1, 120, 15, 35, 40, 77, 100, 33, 14]\n",
      "--->[10, 27, 24, 1, 121, 214, 6, 31, 55, 16, 65, 49]\n",
      "--->[215, 103, 1, 13, 94, 5, 44, 29, 95]\n",
      "--->[11, 7, 1, 85, 6, 44, 29, 122, 22, 3, 24, 18, 86, 87, 216, 28, 3, 8, 4, 24, 123, 18, 217, 51, 66, 86, 51]\n",
      "--->[86, 51, 1, 85, 88, 7, 218, 124, 62, 1, 125, 2, 26, 1, 25, 32, 219, 2, 10, 37, 114, 2, 83, 8, 4, 220, 15, 5, 45, 4, 221]\n",
      "--->[11, 22, 3, 83, 222, 1, 12, 89, 223, 1, 25, 11, 7, 1, 126, 224]\n",
      "--->[2, 47, 5, 54, 124, 126, 88, 62, 1, 125, 2, 8, 225, 1, 25]\n",
      "--->[3, 23, 127, 128, 129, 20, 3, 23, 46, 38, 4, 26, 1, 25, 18, 1, 40, 11, 130, 3, 28]\n",
      "--->[2, 8, 4, 63, 64, 59, 131, 5, 61, 65, 84, 33, 117, 60]\n",
      "--->[226, 118, 132]\n",
      "--->[90, 227, 10, 3, 228, 1, 36, 133, 18, 1, 40]\n",
      "--->[21, 229, 7, 230, 32, 134, 231, 2, 10, 57, 1, 133, 90, 39, 29, 7, 232, 122, 2, 8, 233, 29, 18, 91, 87, 2, 9, 19, 38, 4, 57, 16, 1, 50, 36, 17, 14, 1, 88, 6, 91, 87, 4, 234, 51, 135, 89, 91, 51, 2, 9, 8, 4, 235, 1, 29, 123]\n",
      "--->[135, 49, 1, 12, 7, 236, 20, 2, 8, 36, 64, 31, 55, 66, 54, 237, 6, 31, 70, 2, 9, 19, 38, 4, 57, 1, 36, 17, 90, 238, 239]\n",
      "--->[240, 241, 85, 7, 46, 136]\n",
      "--->[242, 6, 1, 243, 12, 42]\n",
      "--->[30, 10, 3, 244, 245, 14, 75, 6, 5, 67, 89, 1, 34]\n",
      "--->[2, 9, 8, 4, 246, 5, 58, 137, 136, 14, 39, 81, 20, 35, 247, 9, 63, 2, 15, 5, 138, 18, 138, 67, 139, 34]\n",
      "--->[22, 3, 37, 1, 13, 80, 10, 3, 248, 249, 50, 140, 250]\n",
      "--->[48, 141, 251, 50, 140, 67, 14, 1, 67, 139, 58, 137]\n",
      "--->[3, 23, 127, 128, 129, 20, 3, 23, 46, 38, 4, 26, 1, 25, 18, 1, 40, 11, 130, 3, 28]\n",
      "--->[2, 8, 4, 63, 64, 59, 131, 5, 61, 65, 84, 33, 252, 60]\n",
      "--->[142, 20, 41, 52, 119, 132]\n",
      "--->[11, 7, 1, 253, 4, 47, 1, 142]\n",
      "--->[254, 56, 110, 255]\n",
      "--->[2, 8, 4, 24, 1, 121, 42, 6, 31, 55]\n",
      "--->[2, 8, 4, 256, 16, 1, 12, 257]\n",
      "--->[3, 23, 258, 80, 111, 10, 3, 24, 25, 6, 1, 143, 73]\n",
      "--->[2, 9, 47, 5, 120, 4, 24, 42, 6, 143, 73, 14, 39, 81, 49, 2, 24, 15, 1, 259, 45]\n",
      "--->[3, 8, 134, 92, 41, 52, 7, 5, 78, 6, 21, 13, 11, 144, 145, 41, 52]\n",
      "--->[21, 7, 4, 260, 92, 41, 52, 261, 46, 262, 41, 146, 32, 27, 263, 146, 2, 264, 265, 66, 15, 92, 266, 107, 267, 268, 32, 22, 2, 56, 269, 4, 37, 21, 12, 141, 15, 270, 3, 23, 271, 2, 9, 19, 272, 76, 7, 11, 144, 145, 41, 52]\n",
      "--->[273, 274, 17]\n",
      "--->[275, 276, 17]\n",
      "--->[17, 116, 277, 278]\n",
      "--->[279, 18, 280, 281, 282]\n",
      "--->[]\n"
     ]
    }
   ],
   "source": [
    "input_seq=[]\n",
    "for sentense in faq.split(\"\\n\"):\n",
    "    tokenized_sentence=tokenizer.texts_to_sequences([sentense])[0]\n",
    "    print(f\"--->{tokenized_sentence}\")\n",
    "    for i in range(1,len(tokenized_sentence)):\n",
    "        input_seq.append(tokenized_sentence[:i+1])\n",
    "        \n",
    "    "
   ]
  },
  {
   "cell_type": "code",
   "execution_count": 7,
   "id": "9316fe54",
   "metadata": {
    "execution": {
     "iopub.execute_input": "2024-07-09T14:37:00.198048Z",
     "iopub.status.busy": "2024-07-09T14:37:00.196891Z",
     "iopub.status.idle": "2024-07-09T14:37:00.205914Z",
     "shell.execute_reply": "2024-07-09T14:37:00.204615Z"
    },
    "papermill": {
     "duration": 0.024124,
     "end_time": "2024-07-09T14:37:00.208481",
     "exception": false,
     "start_time": "2024-07-09T14:37:00.184357",
     "status": "completed"
    },
    "tags": []
   },
   "outputs": [
    {
     "data": {
      "text/plain": [
       "57"
      ]
     },
     "execution_count": 7,
     "metadata": {},
     "output_type": "execute_result"
    }
   ],
   "source": [
    "max_len=max([len(x) for x in input_seq])\n",
    "max([len(x) for x in input_seq])"
   ]
  },
  {
   "cell_type": "code",
   "execution_count": 8,
   "id": "e3f629ed",
   "metadata": {
    "execution": {
     "iopub.execute_input": "2024-07-09T14:37:00.231831Z",
     "iopub.status.busy": "2024-07-09T14:37:00.231326Z",
     "iopub.status.idle": "2024-07-09T14:37:00.238566Z",
     "shell.execute_reply": "2024-07-09T14:37:00.237293Z"
    },
    "papermill": {
     "duration": 0.022798,
     "end_time": "2024-07-09T14:37:00.241466",
     "exception": false,
     "start_time": "2024-07-09T14:37:00.218668",
     "status": "completed"
    },
    "tags": []
   },
   "outputs": [],
   "source": [
    "from tensorflow.keras.preprocessing.sequence import pad_sequences\n"
   ]
  },
  {
   "cell_type": "code",
   "execution_count": 9,
   "id": "0ea11bb1",
   "metadata": {
    "execution": {
     "iopub.execute_input": "2024-07-09T14:37:00.264489Z",
     "iopub.status.busy": "2024-07-09T14:37:00.263994Z",
     "iopub.status.idle": "2024-07-09T14:37:00.278192Z",
     "shell.execute_reply": "2024-07-09T14:37:00.276653Z"
    },
    "papermill": {
     "duration": 0.029573,
     "end_time": "2024-07-09T14:37:00.281462",
     "exception": false,
     "start_time": "2024-07-09T14:37:00.251889",
     "status": "completed"
    },
    "tags": []
   },
   "outputs": [],
   "source": [
    "padded_input_seq= pad_sequences(input_seq,maxlen=max_len,padding=\"pre\")"
   ]
  },
  {
   "cell_type": "code",
   "execution_count": 10,
   "id": "267fafb6",
   "metadata": {
    "execution": {
     "iopub.execute_input": "2024-07-09T14:37:00.305803Z",
     "iopub.status.busy": "2024-07-09T14:37:00.305325Z",
     "iopub.status.idle": "2024-07-09T14:37:00.315785Z",
     "shell.execute_reply": "2024-07-09T14:37:00.314492Z"
    },
    "papermill": {
     "duration": 0.026446,
     "end_time": "2024-07-09T14:37:00.318666",
     "exception": false,
     "start_time": "2024-07-09T14:37:00.292220",
     "status": "completed"
    },
    "tags": []
   },
   "outputs": [
    {
     "data": {
      "text/plain": [
       "array([[  0,   0,   0, ...,   0,  93,   1],\n",
       "       [  0,   0,   0, ...,  93,   1,  13],\n",
       "       [  0,   0,   0, ...,   0,  11,   7],\n",
       "       ...,\n",
       "       [  0,   0,   0, ..., 279,  18, 280],\n",
       "       [  0,   0,   0, ...,  18, 280, 281],\n",
       "       [  0,   0,   0, ..., 280, 281, 282]], dtype=int32)"
      ]
     },
     "execution_count": 10,
     "metadata": {},
     "output_type": "execute_result"
    }
   ],
   "source": [
    "padded_input_seq"
   ]
  },
  {
   "cell_type": "code",
   "execution_count": 11,
   "id": "9bc695e5",
   "metadata": {
    "execution": {
     "iopub.execute_input": "2024-07-09T14:37:00.342190Z",
     "iopub.status.busy": "2024-07-09T14:37:00.341770Z",
     "iopub.status.idle": "2024-07-09T14:37:00.348012Z",
     "shell.execute_reply": "2024-07-09T14:37:00.346578Z"
    },
    "papermill": {
     "duration": 0.021488,
     "end_time": "2024-07-09T14:37:00.350973",
     "exception": false,
     "start_time": "2024-07-09T14:37:00.329485",
     "status": "completed"
    },
    "tags": []
   },
   "outputs": [],
   "source": [
    "x=padded_input_seq[:,:-1]\n",
    "y=padded_input_seq[:,-1]"
   ]
  },
  {
   "cell_type": "code",
   "execution_count": null,
   "id": "c7c53f70",
   "metadata": {
    "papermill": {
     "duration": 0.010605,
     "end_time": "2024-07-09T14:37:00.372777",
     "exception": false,
     "start_time": "2024-07-09T14:37:00.362172",
     "status": "completed"
    },
    "tags": []
   },
   "outputs": [],
   "source": []
  },
  {
   "cell_type": "code",
   "execution_count": 12,
   "id": "fa33cf2c",
   "metadata": {
    "execution": {
     "iopub.execute_input": "2024-07-09T14:37:00.398142Z",
     "iopub.status.busy": "2024-07-09T14:37:00.396779Z",
     "iopub.status.idle": "2024-07-09T14:37:00.406080Z",
     "shell.execute_reply": "2024-07-09T14:37:00.404824Z"
    },
    "papermill": {
     "duration": 0.025011,
     "end_time": "2024-07-09T14:37:00.409344",
     "exception": false,
     "start_time": "2024-07-09T14:37:00.384333",
     "status": "completed"
    },
    "tags": []
   },
   "outputs": [],
   "source": [
    "from tensorflow.keras.utils import to_categorical\n",
    "y=to_categorical(y,num_classes=283)\n"
   ]
  },
  {
   "cell_type": "code",
   "execution_count": 13,
   "id": "c4b4035b",
   "metadata": {
    "execution": {
     "iopub.execute_input": "2024-07-09T14:37:00.435065Z",
     "iopub.status.busy": "2024-07-09T14:37:00.434568Z",
     "iopub.status.idle": "2024-07-09T14:37:00.443930Z",
     "shell.execute_reply": "2024-07-09T14:37:00.442387Z"
    },
    "papermill": {
     "duration": 0.025535,
     "end_time": "2024-07-09T14:37:00.447103",
     "exception": false,
     "start_time": "2024-07-09T14:37:00.421568",
     "status": "completed"
    },
    "tags": []
   },
   "outputs": [
    {
     "data": {
      "text/plain": [
       "(863, 56)"
      ]
     },
     "execution_count": 13,
     "metadata": {},
     "output_type": "execute_result"
    }
   ],
   "source": [
    "x.shape"
   ]
  },
  {
   "cell_type": "code",
   "execution_count": 14,
   "id": "1c4f7dea",
   "metadata": {
    "execution": {
     "iopub.execute_input": "2024-07-09T14:37:00.471718Z",
     "iopub.status.busy": "2024-07-09T14:37:00.471211Z",
     "iopub.status.idle": "2024-07-09T14:37:00.479460Z",
     "shell.execute_reply": "2024-07-09T14:37:00.478139Z"
    },
    "papermill": {
     "duration": 0.023863,
     "end_time": "2024-07-09T14:37:00.481996",
     "exception": false,
     "start_time": "2024-07-09T14:37:00.458133",
     "status": "completed"
    },
    "tags": []
   },
   "outputs": [
    {
     "data": {
      "text/plain": [
       "(863, 283)"
      ]
     },
     "execution_count": 14,
     "metadata": {},
     "output_type": "execute_result"
    }
   ],
   "source": [
    "y.shape"
   ]
  },
  {
   "cell_type": "markdown",
   "id": "ac7ecede",
   "metadata": {
    "papermill": {
     "duration": 0.010769,
     "end_time": "2024-07-09T14:37:00.503680",
     "exception": false,
     "start_time": "2024-07-09T14:37:00.492911",
     "status": "completed"
    },
    "tags": []
   },
   "source": [
    "# ARCHITECTURE"
   ]
  },
  {
   "cell_type": "code",
   "execution_count": 15,
   "id": "9b015b60",
   "metadata": {
    "execution": {
     "iopub.execute_input": "2024-07-09T14:37:00.528392Z",
     "iopub.status.busy": "2024-07-09T14:37:00.527406Z",
     "iopub.status.idle": "2024-07-09T14:37:00.536524Z",
     "shell.execute_reply": "2024-07-09T14:37:00.535342Z"
    },
    "papermill": {
     "duration": 0.024543,
     "end_time": "2024-07-09T14:37:00.539401",
     "exception": false,
     "start_time": "2024-07-09T14:37:00.514858",
     "status": "completed"
    },
    "tags": []
   },
   "outputs": [],
   "source": [
    "from tensorflow.keras.models import Sequential\n",
    "from tensorflow.keras.layers import Embedding,LSTM,Dense"
   ]
  },
  {
   "cell_type": "code",
   "execution_count": 16,
   "id": "0e9c1bfd",
   "metadata": {
    "execution": {
     "iopub.execute_input": "2024-07-09T14:37:00.563110Z",
     "iopub.status.busy": "2024-07-09T14:37:00.562723Z",
     "iopub.status.idle": "2024-07-09T14:37:00.616266Z",
     "shell.execute_reply": "2024-07-09T14:37:00.614885Z"
    },
    "papermill": {
     "duration": 0.069007,
     "end_time": "2024-07-09T14:37:00.619297",
     "exception": false,
     "start_time": "2024-07-09T14:37:00.550290",
     "status": "completed"
    },
    "tags": []
   },
   "outputs": [
    {
     "name": "stderr",
     "output_type": "stream",
     "text": [
      "/opt/conda/lib/python3.10/site-packages/keras/src/layers/core/embedding.py:90: UserWarning: Argument `input_length` is deprecated. Just remove it.\n",
      "  warnings.warn(\n"
     ]
    }
   ],
   "source": [
    "model=Sequential()\n",
    "\n",
    "model.add(Embedding(283,100,input_length=56))\n",
    "model.add(LSTM(150))\n",
    "model.add(Dense(283,activation=\"softmax\"))"
   ]
  },
  {
   "cell_type": "code",
   "execution_count": 17,
   "id": "535d4b50",
   "metadata": {
    "execution": {
     "iopub.execute_input": "2024-07-09T14:37:00.643349Z",
     "iopub.status.busy": "2024-07-09T14:37:00.642953Z",
     "iopub.status.idle": "2024-07-09T14:37:00.666465Z",
     "shell.execute_reply": "2024-07-09T14:37:00.665249Z"
    },
    "papermill": {
     "duration": 0.039675,
     "end_time": "2024-07-09T14:37:00.669707",
     "exception": false,
     "start_time": "2024-07-09T14:37:00.630032",
     "status": "completed"
    },
    "tags": []
   },
   "outputs": [],
   "source": [
    "model.compile(loss=\"categorical_crossentropy\",optimizer=\"adam\",metrics=[\"accuracy\"])"
   ]
  },
  {
   "cell_type": "code",
   "execution_count": 18,
   "id": "03f0ea11",
   "metadata": {
    "execution": {
     "iopub.execute_input": "2024-07-09T14:37:00.694449Z",
     "iopub.status.busy": "2024-07-09T14:37:00.694051Z",
     "iopub.status.idle": "2024-07-09T14:37:00.717046Z",
     "shell.execute_reply": "2024-07-09T14:37:00.715508Z"
    },
    "papermill": {
     "duration": 0.038963,
     "end_time": "2024-07-09T14:37:00.719875",
     "exception": false,
     "start_time": "2024-07-09T14:37:00.680912",
     "status": "completed"
    },
    "tags": []
   },
   "outputs": [
    {
     "data": {
      "text/html": [
       "<pre style=\"white-space:pre;overflow-x:auto;line-height:normal;font-family:Menlo,'DejaVu Sans Mono',consolas,'Courier New',monospace\"><span style=\"font-weight: bold\">Model: \"sequential\"</span>\n",
       "</pre>\n"
      ],
      "text/plain": [
       "\u001b[1mModel: \"sequential\"\u001b[0m\n"
      ]
     },
     "metadata": {},
     "output_type": "display_data"
    },
    {
     "data": {
      "text/html": [
       "<pre style=\"white-space:pre;overflow-x:auto;line-height:normal;font-family:Menlo,'DejaVu Sans Mono',consolas,'Courier New',monospace\">┏━━━━━━━━━━━━━━━━━━━━━━━━━━━━━━━━━┳━━━━━━━━━━━━━━━━━━━━━━━━┳━━━━━━━━━━━━━━━┓\n",
       "┃<span style=\"font-weight: bold\"> Layer (type)                    </span>┃<span style=\"font-weight: bold\"> Output Shape           </span>┃<span style=\"font-weight: bold\">       Param # </span>┃\n",
       "┡━━━━━━━━━━━━━━━━━━━━━━━━━━━━━━━━━╇━━━━━━━━━━━━━━━━━━━━━━━━╇━━━━━━━━━━━━━━━┩\n",
       "│ embedding (<span style=\"color: #0087ff; text-decoration-color: #0087ff\">Embedding</span>)           │ ?                      │   <span style=\"color: #00af00; text-decoration-color: #00af00\">0</span> (unbuilt) │\n",
       "├─────────────────────────────────┼────────────────────────┼───────────────┤\n",
       "│ lstm (<span style=\"color: #0087ff; text-decoration-color: #0087ff\">LSTM</span>)                     │ ?                      │   <span style=\"color: #00af00; text-decoration-color: #00af00\">0</span> (unbuilt) │\n",
       "├─────────────────────────────────┼────────────────────────┼───────────────┤\n",
       "│ dense (<span style=\"color: #0087ff; text-decoration-color: #0087ff\">Dense</span>)                   │ ?                      │   <span style=\"color: #00af00; text-decoration-color: #00af00\">0</span> (unbuilt) │\n",
       "└─────────────────────────────────┴────────────────────────┴───────────────┘\n",
       "</pre>\n"
      ],
      "text/plain": [
       "┏━━━━━━━━━━━━━━━━━━━━━━━━━━━━━━━━━┳━━━━━━━━━━━━━━━━━━━━━━━━┳━━━━━━━━━━━━━━━┓\n",
       "┃\u001b[1m \u001b[0m\u001b[1mLayer (type)                   \u001b[0m\u001b[1m \u001b[0m┃\u001b[1m \u001b[0m\u001b[1mOutput Shape          \u001b[0m\u001b[1m \u001b[0m┃\u001b[1m \u001b[0m\u001b[1m      Param #\u001b[0m\u001b[1m \u001b[0m┃\n",
       "┡━━━━━━━━━━━━━━━━━━━━━━━━━━━━━━━━━╇━━━━━━━━━━━━━━━━━━━━━━━━╇━━━━━━━━━━━━━━━┩\n",
       "│ embedding (\u001b[38;5;33mEmbedding\u001b[0m)           │ ?                      │   \u001b[38;5;34m0\u001b[0m (unbuilt) │\n",
       "├─────────────────────────────────┼────────────────────────┼───────────────┤\n",
       "│ lstm (\u001b[38;5;33mLSTM\u001b[0m)                     │ ?                      │   \u001b[38;5;34m0\u001b[0m (unbuilt) │\n",
       "├─────────────────────────────────┼────────────────────────┼───────────────┤\n",
       "│ dense (\u001b[38;5;33mDense\u001b[0m)                   │ ?                      │   \u001b[38;5;34m0\u001b[0m (unbuilt) │\n",
       "└─────────────────────────────────┴────────────────────────┴───────────────┘\n"
      ]
     },
     "metadata": {},
     "output_type": "display_data"
    },
    {
     "data": {
      "text/html": [
       "<pre style=\"white-space:pre;overflow-x:auto;line-height:normal;font-family:Menlo,'DejaVu Sans Mono',consolas,'Courier New',monospace\"><span style=\"font-weight: bold\"> Total params: </span><span style=\"color: #00af00; text-decoration-color: #00af00\">0</span> (0.00 B)\n",
       "</pre>\n"
      ],
      "text/plain": [
       "\u001b[1m Total params: \u001b[0m\u001b[38;5;34m0\u001b[0m (0.00 B)\n"
      ]
     },
     "metadata": {},
     "output_type": "display_data"
    },
    {
     "data": {
      "text/html": [
       "<pre style=\"white-space:pre;overflow-x:auto;line-height:normal;font-family:Menlo,'DejaVu Sans Mono',consolas,'Courier New',monospace\"><span style=\"font-weight: bold\"> Trainable params: </span><span style=\"color: #00af00; text-decoration-color: #00af00\">0</span> (0.00 B)\n",
       "</pre>\n"
      ],
      "text/plain": [
       "\u001b[1m Trainable params: \u001b[0m\u001b[38;5;34m0\u001b[0m (0.00 B)\n"
      ]
     },
     "metadata": {},
     "output_type": "display_data"
    },
    {
     "data": {
      "text/html": [
       "<pre style=\"white-space:pre;overflow-x:auto;line-height:normal;font-family:Menlo,'DejaVu Sans Mono',consolas,'Courier New',monospace\"><span style=\"font-weight: bold\"> Non-trainable params: </span><span style=\"color: #00af00; text-decoration-color: #00af00\">0</span> (0.00 B)\n",
       "</pre>\n"
      ],
      "text/plain": [
       "\u001b[1m Non-trainable params: \u001b[0m\u001b[38;5;34m0\u001b[0m (0.00 B)\n"
      ]
     },
     "metadata": {},
     "output_type": "display_data"
    }
   ],
   "source": [
    "model.summary()    "
   ]
  },
  {
   "cell_type": "code",
   "execution_count": 19,
   "id": "757a5e1d",
   "metadata": {
    "execution": {
     "iopub.execute_input": "2024-07-09T14:37:00.746283Z",
     "iopub.status.busy": "2024-07-09T14:37:00.745778Z",
     "iopub.status.idle": "2024-07-09T14:40:17.803171Z",
     "shell.execute_reply": "2024-07-09T14:40:17.801867Z"
    },
    "papermill": {
     "duration": 197.074509,
     "end_time": "2024-07-09T14:40:17.806262",
     "exception": false,
     "start_time": "2024-07-09T14:37:00.731753",
     "status": "completed"
    },
    "tags": []
   },
   "outputs": [
    {
     "name": "stdout",
     "output_type": "stream",
     "text": [
      "Epoch 1/100\n",
      "\u001b[1m27/27\u001b[0m \u001b[32m━━━━━━━━━━━━━━━━━━━━\u001b[0m\u001b[37m\u001b[0m \u001b[1m5s\u001b[0m 64ms/step - accuracy: 0.0692 - loss: 5.5387\n",
      "Epoch 2/100\n",
      "\u001b[1m27/27\u001b[0m \u001b[32m━━━━━━━━━━━━━━━━━━━━\u001b[0m\u001b[37m\u001b[0m \u001b[1m2s\u001b[0m 63ms/step - accuracy: 0.0787 - loss: 4.9892\n",
      "Epoch 3/100\n",
      "\u001b[1m27/27\u001b[0m \u001b[32m━━━━━━━━━━━━━━━━━━━━\u001b[0m\u001b[37m\u001b[0m \u001b[1m2s\u001b[0m 65ms/step - accuracy: 0.0812 - loss: 5.0135\n",
      "Epoch 4/100\n",
      "\u001b[1m27/27\u001b[0m \u001b[32m━━━━━━━━━━━━━━━━━━━━\u001b[0m\u001b[37m\u001b[0m \u001b[1m2s\u001b[0m 61ms/step - accuracy: 0.0766 - loss: 4.9926\n",
      "Epoch 5/100\n",
      "\u001b[1m27/27\u001b[0m \u001b[32m━━━━━━━━━━━━━━━━━━━━\u001b[0m\u001b[37m\u001b[0m \u001b[1m2s\u001b[0m 62ms/step - accuracy: 0.0673 - loss: 4.8978\n",
      "Epoch 6/100\n",
      "\u001b[1m27/27\u001b[0m \u001b[32m━━━━━━━━━━━━━━━━━━━━\u001b[0m\u001b[37m\u001b[0m \u001b[1m2s\u001b[0m 71ms/step - accuracy: 0.0850 - loss: 4.8326\n",
      "Epoch 7/100\n",
      "\u001b[1m27/27\u001b[0m \u001b[32m━━━━━━━━━━━━━━━━━━━━\u001b[0m\u001b[37m\u001b[0m \u001b[1m2s\u001b[0m 66ms/step - accuracy: 0.0896 - loss: 4.6826\n",
      "Epoch 8/100\n",
      "\u001b[1m27/27\u001b[0m \u001b[32m━━━━━━━━━━━━━━━━━━━━\u001b[0m\u001b[37m\u001b[0m \u001b[1m2s\u001b[0m 66ms/step - accuracy: 0.1200 - loss: 4.5340\n",
      "Epoch 9/100\n",
      "\u001b[1m27/27\u001b[0m \u001b[32m━━━━━━━━━━━━━━━━━━━━\u001b[0m\u001b[37m\u001b[0m \u001b[1m2s\u001b[0m 64ms/step - accuracy: 0.1540 - loss: 4.3240\n",
      "Epoch 10/100\n",
      "\u001b[1m27/27\u001b[0m \u001b[32m━━━━━━━━━━━━━━━━━━━━\u001b[0m\u001b[37m\u001b[0m \u001b[1m2s\u001b[0m 64ms/step - accuracy: 0.1959 - loss: 4.0049\n",
      "Epoch 11/100\n",
      "\u001b[1m27/27\u001b[0m \u001b[32m━━━━━━━━━━━━━━━━━━━━\u001b[0m\u001b[37m\u001b[0m \u001b[1m2s\u001b[0m 70ms/step - accuracy: 0.2043 - loss: 3.9639\n",
      "Epoch 12/100\n",
      "\u001b[1m27/27\u001b[0m \u001b[32m━━━━━━━━━━━━━━━━━━━━\u001b[0m\u001b[37m\u001b[0m \u001b[1m2s\u001b[0m 62ms/step - accuracy: 0.2395 - loss: 3.6866\n",
      "Epoch 13/100\n",
      "\u001b[1m27/27\u001b[0m \u001b[32m━━━━━━━━━━━━━━━━━━━━\u001b[0m\u001b[37m\u001b[0m \u001b[1m3s\u001b[0m 69ms/step - accuracy: 0.2646 - loss: 3.5473\n",
      "Epoch 14/100\n",
      "\u001b[1m27/27\u001b[0m \u001b[32m━━━━━━━━━━━━━━━━━━━━\u001b[0m\u001b[37m\u001b[0m \u001b[1m2s\u001b[0m 62ms/step - accuracy: 0.3019 - loss: 3.3574\n",
      "Epoch 15/100\n",
      "\u001b[1m27/27\u001b[0m \u001b[32m━━━━━━━━━━━━━━━━━━━━\u001b[0m\u001b[37m\u001b[0m \u001b[1m3s\u001b[0m 74ms/step - accuracy: 0.3258 - loss: 3.2196\n",
      "Epoch 16/100\n",
      "\u001b[1m27/27\u001b[0m \u001b[32m━━━━━━━━━━━━━━━━━━━━\u001b[0m\u001b[37m\u001b[0m \u001b[1m2s\u001b[0m 66ms/step - accuracy: 0.3704 - loss: 3.0229\n",
      "Epoch 17/100\n",
      "\u001b[1m27/27\u001b[0m \u001b[32m━━━━━━━━━━━━━━━━━━━━\u001b[0m\u001b[37m\u001b[0m \u001b[1m2s\u001b[0m 61ms/step - accuracy: 0.4305 - loss: 2.7595\n",
      "Epoch 18/100\n",
      "\u001b[1m27/27\u001b[0m \u001b[32m━━━━━━━━━━━━━━━━━━━━\u001b[0m\u001b[37m\u001b[0m \u001b[1m2s\u001b[0m 65ms/step - accuracy: 0.4711 - loss: 2.5757\n",
      "Epoch 19/100\n",
      "\u001b[1m27/27\u001b[0m \u001b[32m━━━━━━━━━━━━━━━━━━━━\u001b[0m\u001b[37m\u001b[0m \u001b[1m2s\u001b[0m 62ms/step - accuracy: 0.4950 - loss: 2.4414\n",
      "Epoch 20/100\n",
      "\u001b[1m27/27\u001b[0m \u001b[32m━━━━━━━━━━━━━━━━━━━━\u001b[0m\u001b[37m\u001b[0m \u001b[1m2s\u001b[0m 63ms/step - accuracy: 0.4961 - loss: 2.3121\n",
      "Epoch 21/100\n",
      "\u001b[1m27/27\u001b[0m \u001b[32m━━━━━━━━━━━━━━━━━━━━\u001b[0m\u001b[37m\u001b[0m \u001b[1m2s\u001b[0m 63ms/step - accuracy: 0.5372 - loss: 2.0893\n",
      "Epoch 22/100\n",
      "\u001b[1m27/27\u001b[0m \u001b[32m━━━━━━━━━━━━━━━━━━━━\u001b[0m\u001b[37m\u001b[0m \u001b[1m2s\u001b[0m 74ms/step - accuracy: 0.5525 - loss: 2.0736\n",
      "Epoch 23/100\n",
      "\u001b[1m27/27\u001b[0m \u001b[32m━━━━━━━━━━━━━━━━━━━━\u001b[0m\u001b[37m\u001b[0m \u001b[1m2s\u001b[0m 62ms/step - accuracy: 0.5835 - loss: 1.9317\n",
      "Epoch 24/100\n",
      "\u001b[1m27/27\u001b[0m \u001b[32m━━━━━━━━━━━━━━━━━━━━\u001b[0m\u001b[37m\u001b[0m \u001b[1m2s\u001b[0m 65ms/step - accuracy: 0.6415 - loss: 1.7921\n",
      "Epoch 25/100\n",
      "\u001b[1m27/27\u001b[0m \u001b[32m━━━━━━━━━━━━━━━━━━━━\u001b[0m\u001b[37m\u001b[0m \u001b[1m2s\u001b[0m 64ms/step - accuracy: 0.6785 - loss: 1.6769\n",
      "Epoch 26/100\n",
      "\u001b[1m27/27\u001b[0m \u001b[32m━━━━━━━━━━━━━━━━━━━━\u001b[0m\u001b[37m\u001b[0m \u001b[1m2s\u001b[0m 64ms/step - accuracy: 0.6982 - loss: 1.5542\n",
      "Epoch 27/100\n",
      "\u001b[1m27/27\u001b[0m \u001b[32m━━━━━━━━━━━━━━━━━━━━\u001b[0m\u001b[37m\u001b[0m \u001b[1m2s\u001b[0m 64ms/step - accuracy: 0.7183 - loss: 1.4464\n",
      "Epoch 28/100\n",
      "\u001b[1m27/27\u001b[0m \u001b[32m━━━━━━━━━━━━━━━━━━━━\u001b[0m\u001b[37m\u001b[0m \u001b[1m3s\u001b[0m 67ms/step - accuracy: 0.7414 - loss: 1.3649\n",
      "Epoch 29/100\n",
      "\u001b[1m27/27\u001b[0m \u001b[32m━━━━━━━━━━━━━━━━━━━━\u001b[0m\u001b[37m\u001b[0m \u001b[1m2s\u001b[0m 63ms/step - accuracy: 0.7494 - loss: 1.2871\n",
      "Epoch 30/100\n",
      "\u001b[1m27/27\u001b[0m \u001b[32m━━━━━━━━━━━━━━━━━━━━\u001b[0m\u001b[37m\u001b[0m \u001b[1m2s\u001b[0m 63ms/step - accuracy: 0.7716 - loss: 1.2259\n",
      "Epoch 31/100\n",
      "\u001b[1m27/27\u001b[0m \u001b[32m━━━━━━━━━━━━━━━━━━━━\u001b[0m\u001b[37m\u001b[0m \u001b[1m2s\u001b[0m 65ms/step - accuracy: 0.8000 - loss: 1.1291\n",
      "Epoch 32/100\n",
      "\u001b[1m27/27\u001b[0m \u001b[32m━━━━━━━━━━━━━━━━━━━━\u001b[0m\u001b[37m\u001b[0m \u001b[1m2s\u001b[0m 68ms/step - accuracy: 0.8339 - loss: 1.0700\n",
      "Epoch 33/100\n",
      "\u001b[1m27/27\u001b[0m \u001b[32m━━━━━━━━━━━━━━━━━━━━\u001b[0m\u001b[37m\u001b[0m \u001b[1m3s\u001b[0m 68ms/step - accuracy: 0.8214 - loss: 1.0198\n",
      "Epoch 34/100\n",
      "\u001b[1m27/27\u001b[0m \u001b[32m━━━━━━━━━━━━━━━━━━━━\u001b[0m\u001b[37m\u001b[0m \u001b[1m2s\u001b[0m 63ms/step - accuracy: 0.8439 - loss: 0.9522\n",
      "Epoch 35/100\n",
      "\u001b[1m27/27\u001b[0m \u001b[32m━━━━━━━━━━━━━━━━━━━━\u001b[0m\u001b[37m\u001b[0m \u001b[1m2s\u001b[0m 62ms/step - accuracy: 0.8395 - loss: 0.9222\n",
      "Epoch 36/100\n",
      "\u001b[1m27/27\u001b[0m \u001b[32m━━━━━━━━━━━━━━━━━━━━\u001b[0m\u001b[37m\u001b[0m \u001b[1m2s\u001b[0m 62ms/step - accuracy: 0.8547 - loss: 0.8566\n",
      "Epoch 37/100\n",
      "\u001b[1m27/27\u001b[0m \u001b[32m━━━━━━━━━━━━━━━━━━━━\u001b[0m\u001b[37m\u001b[0m \u001b[1m2s\u001b[0m 69ms/step - accuracy: 0.8814 - loss: 0.7952\n",
      "Epoch 38/100\n",
      "\u001b[1m27/27\u001b[0m \u001b[32m━━━━━━━━━━━━━━━━━━━━\u001b[0m\u001b[37m\u001b[0m \u001b[1m2s\u001b[0m 64ms/step - accuracy: 0.8826 - loss: 0.7324\n",
      "Epoch 39/100\n",
      "\u001b[1m27/27\u001b[0m \u001b[32m━━━━━━━━━━━━━━━━━━━━\u001b[0m\u001b[37m\u001b[0m \u001b[1m2s\u001b[0m 63ms/step - accuracy: 0.8853 - loss: 0.7103\n",
      "Epoch 40/100\n",
      "\u001b[1m27/27\u001b[0m \u001b[32m━━━━━━━━━━━━━━━━━━━━\u001b[0m\u001b[37m\u001b[0m \u001b[1m3s\u001b[0m 64ms/step - accuracy: 0.9016 - loss: 0.6547\n",
      "Epoch 41/100\n",
      "\u001b[1m27/27\u001b[0m \u001b[32m━━━━━━━━━━━━━━━━━━━━\u001b[0m\u001b[37m\u001b[0m \u001b[1m2s\u001b[0m 62ms/step - accuracy: 0.9064 - loss: 0.6357\n",
      "Epoch 42/100\n",
      "\u001b[1m27/27\u001b[0m \u001b[32m━━━━━━━━━━━━━━━━━━━━\u001b[0m\u001b[37m\u001b[0m \u001b[1m2s\u001b[0m 62ms/step - accuracy: 0.8888 - loss: 0.6146\n",
      "Epoch 43/100\n",
      "\u001b[1m27/27\u001b[0m \u001b[32m━━━━━━━━━━━━━━━━━━━━\u001b[0m\u001b[37m\u001b[0m \u001b[1m2s\u001b[0m 63ms/step - accuracy: 0.9150 - loss: 0.5514\n",
      "Epoch 44/100\n",
      "\u001b[1m27/27\u001b[0m \u001b[32m━━━━━━━━━━━━━━━━━━━━\u001b[0m\u001b[37m\u001b[0m \u001b[1m2s\u001b[0m 62ms/step - accuracy: 0.9184 - loss: 0.5647\n",
      "Epoch 45/100\n",
      "\u001b[1m27/27\u001b[0m \u001b[32m━━━━━━━━━━━━━━━━━━━━\u001b[0m\u001b[37m\u001b[0m \u001b[1m2s\u001b[0m 69ms/step - accuracy: 0.9104 - loss: 0.5209\n",
      "Epoch 46/100\n",
      "\u001b[1m27/27\u001b[0m \u001b[32m━━━━━━━━━━━━━━━━━━━━\u001b[0m\u001b[37m\u001b[0m \u001b[1m2s\u001b[0m 63ms/step - accuracy: 0.9210 - loss: 0.5247\n",
      "Epoch 47/100\n",
      "\u001b[1m27/27\u001b[0m \u001b[32m━━━━━━━━━━━━━━━━━━━━\u001b[0m\u001b[37m\u001b[0m \u001b[1m2s\u001b[0m 64ms/step - accuracy: 0.9404 - loss: 0.4555\n",
      "Epoch 48/100\n",
      "\u001b[1m27/27\u001b[0m \u001b[32m━━━━━━━━━━━━━━━━━━━━\u001b[0m\u001b[37m\u001b[0m \u001b[1m2s\u001b[0m 62ms/step - accuracy: 0.9249 - loss: 0.4510\n",
      "Epoch 49/100\n",
      "\u001b[1m27/27\u001b[0m \u001b[32m━━━━━━━━━━━━━━━━━━━━\u001b[0m\u001b[37m\u001b[0m \u001b[1m2s\u001b[0m 61ms/step - accuracy: 0.9439 - loss: 0.4198\n",
      "Epoch 50/100\n",
      "\u001b[1m27/27\u001b[0m \u001b[32m━━━━━━━━━━━━━━━━━━━━\u001b[0m\u001b[37m\u001b[0m \u001b[1m2s\u001b[0m 75ms/step - accuracy: 0.9433 - loss: 0.4121\n",
      "Epoch 51/100\n",
      "\u001b[1m27/27\u001b[0m \u001b[32m━━━━━━━━━━━━━━━━━━━━\u001b[0m\u001b[37m\u001b[0m \u001b[1m2s\u001b[0m 65ms/step - accuracy: 0.9422 - loss: 0.3809\n",
      "Epoch 52/100\n",
      "\u001b[1m27/27\u001b[0m \u001b[32m━━━━━━━━━━━━━━━━━━━━\u001b[0m\u001b[37m\u001b[0m \u001b[1m2s\u001b[0m 60ms/step - accuracy: 0.9407 - loss: 0.3909\n",
      "Epoch 53/100\n",
      "\u001b[1m27/27\u001b[0m \u001b[32m━━━━━━━━━━━━━━━━━━━━\u001b[0m\u001b[37m\u001b[0m \u001b[1m2s\u001b[0m 64ms/step - accuracy: 0.9402 - loss: 0.3503\n",
      "Epoch 54/100\n",
      "\u001b[1m27/27\u001b[0m \u001b[32m━━━━━━━━━━━━━━━━━━━━\u001b[0m\u001b[37m\u001b[0m \u001b[1m2s\u001b[0m 66ms/step - accuracy: 0.9380 - loss: 0.3706\n",
      "Epoch 55/100\n",
      "\u001b[1m27/27\u001b[0m \u001b[32m━━━━━━━━━━━━━━━━━━━━\u001b[0m\u001b[37m\u001b[0m \u001b[1m2s\u001b[0m 68ms/step - accuracy: 0.9556 - loss: 0.3214\n",
      "Epoch 56/100\n",
      "\u001b[1m27/27\u001b[0m \u001b[32m━━━━━━━━━━━━━━━━━━━━\u001b[0m\u001b[37m\u001b[0m \u001b[1m2s\u001b[0m 66ms/step - accuracy: 0.9445 - loss: 0.3263\n",
      "Epoch 57/100\n",
      "\u001b[1m27/27\u001b[0m \u001b[32m━━━━━━━━━━━━━━━━━━━━\u001b[0m\u001b[37m\u001b[0m \u001b[1m2s\u001b[0m 62ms/step - accuracy: 0.9506 - loss: 0.3066\n",
      "Epoch 58/100\n",
      "\u001b[1m27/27\u001b[0m \u001b[32m━━━━━━━━━━━━━━━━━━━━\u001b[0m\u001b[37m\u001b[0m \u001b[1m2s\u001b[0m 68ms/step - accuracy: 0.9420 - loss: 0.2941\n",
      "Epoch 59/100\n",
      "\u001b[1m27/27\u001b[0m \u001b[32m━━━━━━━━━━━━━━━━━━━━\u001b[0m\u001b[37m\u001b[0m \u001b[1m2s\u001b[0m 69ms/step - accuracy: 0.9564 - loss: 0.2819\n",
      "Epoch 60/100\n",
      "\u001b[1m27/27\u001b[0m \u001b[32m━━━━━━━━━━━━━━━━━━━━\u001b[0m\u001b[37m\u001b[0m \u001b[1m2s\u001b[0m 63ms/step - accuracy: 0.9524 - loss: 0.2677\n",
      "Epoch 61/100\n",
      "\u001b[1m27/27\u001b[0m \u001b[32m━━━━━━━━━━━━━━━━━━━━\u001b[0m\u001b[37m\u001b[0m \u001b[1m3s\u001b[0m 70ms/step - accuracy: 0.9388 - loss: 0.2822\n",
      "Epoch 62/100\n",
      "\u001b[1m27/27\u001b[0m \u001b[32m━━━━━━━━━━━━━━━━━━━━\u001b[0m\u001b[37m\u001b[0m \u001b[1m2s\u001b[0m 62ms/step - accuracy: 0.9448 - loss: 0.2805\n",
      "Epoch 63/100\n",
      "\u001b[1m27/27\u001b[0m \u001b[32m━━━━━━━━━━━━━━━━━━━━\u001b[0m\u001b[37m\u001b[0m \u001b[1m2s\u001b[0m 70ms/step - accuracy: 0.9522 - loss: 0.2486\n",
      "Epoch 64/100\n",
      "\u001b[1m27/27\u001b[0m \u001b[32m━━━━━━━━━━━━━━━━━━━━\u001b[0m\u001b[37m\u001b[0m \u001b[1m2s\u001b[0m 65ms/step - accuracy: 0.9424 - loss: 0.2486\n",
      "Epoch 65/100\n",
      "\u001b[1m27/27\u001b[0m \u001b[32m━━━━━━━━━━━━━━━━━━━━\u001b[0m\u001b[37m\u001b[0m \u001b[1m2s\u001b[0m 63ms/step - accuracy: 0.9462 - loss: 0.2439\n",
      "Epoch 66/100\n",
      "\u001b[1m27/27\u001b[0m \u001b[32m━━━━━━━━━━━━━━━━━━━━\u001b[0m\u001b[37m\u001b[0m \u001b[1m3s\u001b[0m 75ms/step - accuracy: 0.9462 - loss: 0.2492\n",
      "Epoch 67/100\n",
      "\u001b[1m27/27\u001b[0m \u001b[32m━━━━━━━━━━━━━━━━━━━━\u001b[0m\u001b[37m\u001b[0m \u001b[1m2s\u001b[0m 62ms/step - accuracy: 0.9576 - loss: 0.2191\n",
      "Epoch 68/100\n",
      "\u001b[1m27/27\u001b[0m \u001b[32m━━━━━━━━━━━━━━━━━━━━\u001b[0m\u001b[37m\u001b[0m \u001b[1m2s\u001b[0m 62ms/step - accuracy: 0.9600 - loss: 0.2177\n",
      "Epoch 69/100\n",
      "\u001b[1m27/27\u001b[0m \u001b[32m━━━━━━━━━━━━━━━━━━━━\u001b[0m\u001b[37m\u001b[0m \u001b[1m2s\u001b[0m 70ms/step - accuracy: 0.9525 - loss: 0.2062\n",
      "Epoch 70/100\n",
      "\u001b[1m27/27\u001b[0m \u001b[32m━━━━━━━━━━━━━━━━━━━━\u001b[0m\u001b[37m\u001b[0m \u001b[1m2s\u001b[0m 63ms/step - accuracy: 0.9569 - loss: 0.1970\n",
      "Epoch 71/100\n",
      "\u001b[1m27/27\u001b[0m \u001b[32m━━━━━━━━━━━━━━━━━━━━\u001b[0m\u001b[37m\u001b[0m \u001b[1m3s\u001b[0m 69ms/step - accuracy: 0.9561 - loss: 0.2089\n",
      "Epoch 72/100\n",
      "\u001b[1m27/27\u001b[0m \u001b[32m━━━━━━━━━━━━━━━━━━━━\u001b[0m\u001b[37m\u001b[0m \u001b[1m2s\u001b[0m 65ms/step - accuracy: 0.9358 - loss: 0.2376\n",
      "Epoch 73/100\n",
      "\u001b[1m27/27\u001b[0m \u001b[32m━━━━━━━━━━━━━━━━━━━━\u001b[0m\u001b[37m\u001b[0m \u001b[1m2s\u001b[0m 62ms/step - accuracy: 0.9500 - loss: 0.2039\n",
      "Epoch 74/100\n",
      "\u001b[1m27/27\u001b[0m \u001b[32m━━━━━━━━━━━━━━━━━━━━\u001b[0m\u001b[37m\u001b[0m \u001b[1m3s\u001b[0m 65ms/step - accuracy: 0.9523 - loss: 0.1936\n",
      "Epoch 75/100\n",
      "\u001b[1m27/27\u001b[0m \u001b[32m━━━━━━━━━━━━━━━━━━━━\u001b[0m\u001b[37m\u001b[0m \u001b[1m3s\u001b[0m 69ms/step - accuracy: 0.9543 - loss: 0.1842\n",
      "Epoch 76/100\n",
      "\u001b[1m27/27\u001b[0m \u001b[32m━━━━━━━━━━━━━━━━━━━━\u001b[0m\u001b[37m\u001b[0m \u001b[1m2s\u001b[0m 63ms/step - accuracy: 0.9362 - loss: 0.2038\n",
      "Epoch 77/100\n",
      "\u001b[1m27/27\u001b[0m \u001b[32m━━━━━━━━━━━━━━━━━━━━\u001b[0m\u001b[37m\u001b[0m \u001b[1m2s\u001b[0m 67ms/step - accuracy: 0.9424 - loss: 0.1973\n",
      "Epoch 78/100\n",
      "\u001b[1m27/27\u001b[0m \u001b[32m━━━━━━━━━━━━━━━━━━━━\u001b[0m\u001b[37m\u001b[0m \u001b[1m2s\u001b[0m 66ms/step - accuracy: 0.9495 - loss: 0.1893\n",
      "Epoch 79/100\n",
      "\u001b[1m27/27\u001b[0m \u001b[32m━━━━━━━━━━━━━━━━━━━━\u001b[0m\u001b[37m\u001b[0m \u001b[1m2s\u001b[0m 63ms/step - accuracy: 0.9578 - loss: 0.1720\n",
      "Epoch 80/100\n",
      "\u001b[1m27/27\u001b[0m \u001b[32m━━━━━━━━━━━━━━━━━━━━\u001b[0m\u001b[37m\u001b[0m \u001b[1m2s\u001b[0m 66ms/step - accuracy: 0.9411 - loss: 0.1872\n",
      "Epoch 81/100\n",
      "\u001b[1m27/27\u001b[0m \u001b[32m━━━━━━━━━━━━━━━━━━━━\u001b[0m\u001b[37m\u001b[0m \u001b[1m2s\u001b[0m 65ms/step - accuracy: 0.9530 - loss: 0.1747\n",
      "Epoch 82/100\n",
      "\u001b[1m27/27\u001b[0m \u001b[32m━━━━━━━━━━━━━━━━━━━━\u001b[0m\u001b[37m\u001b[0m \u001b[1m2s\u001b[0m 74ms/step - accuracy: 0.9430 - loss: 0.1728\n",
      "Epoch 83/100\n",
      "\u001b[1m27/27\u001b[0m \u001b[32m━━━━━━━━━━━━━━━━━━━━\u001b[0m\u001b[37m\u001b[0m \u001b[1m2s\u001b[0m 62ms/step - accuracy: 0.9286 - loss: 0.1900\n",
      "Epoch 84/100\n",
      "\u001b[1m27/27\u001b[0m \u001b[32m━━━━━━━━━━━━━━━━━━━━\u001b[0m\u001b[37m\u001b[0m \u001b[1m2s\u001b[0m 62ms/step - accuracy: 0.9563 - loss: 0.1534\n",
      "Epoch 85/100\n",
      "\u001b[1m27/27\u001b[0m \u001b[32m━━━━━━━━━━━━━━━━━━━━\u001b[0m\u001b[37m\u001b[0m \u001b[1m2s\u001b[0m 65ms/step - accuracy: 0.9433 - loss: 0.1724\n",
      "Epoch 86/100\n",
      "\u001b[1m27/27\u001b[0m \u001b[32m━━━━━━━━━━━━━━━━━━━━\u001b[0m\u001b[37m\u001b[0m \u001b[1m3s\u001b[0m 62ms/step - accuracy: 0.9427 - loss: 0.1635\n",
      "Epoch 87/100\n",
      "\u001b[1m27/27\u001b[0m \u001b[32m━━━━━━━━━━━━━━━━━━━━\u001b[0m\u001b[37m\u001b[0m \u001b[1m2s\u001b[0m 64ms/step - accuracy: 0.9554 - loss: 0.1489\n",
      "Epoch 88/100\n",
      "\u001b[1m27/27\u001b[0m \u001b[32m━━━━━━━━━━━━━━━━━━━━\u001b[0m\u001b[37m\u001b[0m \u001b[1m2s\u001b[0m 66ms/step - accuracy: 0.9457 - loss: 0.1489\n",
      "Epoch 89/100\n",
      "\u001b[1m27/27\u001b[0m \u001b[32m━━━━━━━━━━━━━━━━━━━━\u001b[0m\u001b[37m\u001b[0m \u001b[1m2s\u001b[0m 61ms/step - accuracy: 0.9380 - loss: 0.1699\n",
      "Epoch 90/100\n",
      "\u001b[1m27/27\u001b[0m \u001b[32m━━━━━━━━━━━━━━━━━━━━\u001b[0m\u001b[37m\u001b[0m \u001b[1m2s\u001b[0m 63ms/step - accuracy: 0.9528 - loss: 0.1442\n",
      "Epoch 91/100\n",
      "\u001b[1m27/27\u001b[0m \u001b[32m━━━━━━━━━━━━━━━━━━━━\u001b[0m\u001b[37m\u001b[0m \u001b[1m3s\u001b[0m 61ms/step - accuracy: 0.9424 - loss: 0.1734\n",
      "Epoch 92/100\n",
      "\u001b[1m27/27\u001b[0m \u001b[32m━━━━━━━━━━━━━━━━━━━━\u001b[0m\u001b[37m\u001b[0m \u001b[1m2s\u001b[0m 70ms/step - accuracy: 0.9496 - loss: 0.1503\n",
      "Epoch 93/100\n",
      "\u001b[1m27/27\u001b[0m \u001b[32m━━━━━━━━━━━━━━━━━━━━\u001b[0m\u001b[37m\u001b[0m \u001b[1m2s\u001b[0m 79ms/step - accuracy: 0.9579 - loss: 0.1506\n",
      "Epoch 94/100\n",
      "\u001b[1m27/27\u001b[0m \u001b[32m━━━━━━━━━━━━━━━━━━━━\u001b[0m\u001b[37m\u001b[0m \u001b[1m2s\u001b[0m 62ms/step - accuracy: 0.9436 - loss: 0.1671\n",
      "Epoch 95/100\n",
      "\u001b[1m27/27\u001b[0m \u001b[32m━━━━━━━━━━━━━━━━━━━━\u001b[0m\u001b[37m\u001b[0m \u001b[1m2s\u001b[0m 61ms/step - accuracy: 0.9428 - loss: 0.1498\n",
      "Epoch 96/100\n",
      "\u001b[1m27/27\u001b[0m \u001b[32m━━━━━━━━━━━━━━━━━━━━\u001b[0m\u001b[37m\u001b[0m \u001b[1m2s\u001b[0m 64ms/step - accuracy: 0.9574 - loss: 0.1369\n",
      "Epoch 97/100\n",
      "\u001b[1m27/27\u001b[0m \u001b[32m━━━━━━━━━━━━━━━━━━━━\u001b[0m\u001b[37m\u001b[0m \u001b[1m2s\u001b[0m 61ms/step - accuracy: 0.9453 - loss: 0.1438\n",
      "Epoch 98/100\n",
      "\u001b[1m27/27\u001b[0m \u001b[32m━━━━━━━━━━━━━━━━━━━━\u001b[0m\u001b[37m\u001b[0m \u001b[1m2s\u001b[0m 72ms/step - accuracy: 0.9487 - loss: 0.1439\n",
      "Epoch 99/100\n",
      "\u001b[1m27/27\u001b[0m \u001b[32m━━━━━━━━━━━━━━━━━━━━\u001b[0m\u001b[37m\u001b[0m \u001b[1m2s\u001b[0m 65ms/step - accuracy: 0.9459 - loss: 0.1370\n",
      "Epoch 100/100\n",
      "\u001b[1m27/27\u001b[0m \u001b[32m━━━━━━━━━━━━━━━━━━━━\u001b[0m\u001b[37m\u001b[0m \u001b[1m2s\u001b[0m 62ms/step - accuracy: 0.9412 - loss: 0.1550\n"
     ]
    },
    {
     "data": {
      "text/plain": [
       "<keras.src.callbacks.history.History at 0x7e04cf4deb60>"
      ]
     },
     "execution_count": 19,
     "metadata": {},
     "output_type": "execute_result"
    }
   ],
   "source": [
    "model.fit(x,y,epochs=100)"
   ]
  },
  {
   "cell_type": "markdown",
   "id": "307fa5df",
   "metadata": {
    "papermill": {
     "duration": 0.327472,
     "end_time": "2024-07-09T14:40:18.428927",
     "exception": false,
     "start_time": "2024-07-09T14:40:18.101455",
     "status": "completed"
    },
    "tags": []
   },
   "source": [
    "# test with text"
   ]
  },
  {
   "cell_type": "code",
   "execution_count": 20,
   "id": "2e5923f9",
   "metadata": {
    "execution": {
     "iopub.execute_input": "2024-07-09T14:40:19.014743Z",
     "iopub.status.busy": "2024-07-09T14:40:19.014303Z",
     "iopub.status.idle": "2024-07-09T14:40:19.295897Z",
     "shell.execute_reply": "2024-07-09T14:40:19.294359Z"
    },
    "papermill": {
     "duration": 0.57614,
     "end_time": "2024-07-09T14:40:19.299042",
     "exception": false,
     "start_time": "2024-07-09T14:40:18.722902",
     "status": "completed"
    },
    "tags": []
   },
   "outputs": [
    {
     "name": "stdout",
     "output_type": "stream",
     "text": [
      "\u001b[1m1/1\u001b[0m \u001b[32m━━━━━━━━━━━━━━━━━━━━\u001b[0m\u001b[37m\u001b[0m \u001b[1m0s\u001b[0m 213ms/step\n",
      "of\n"
     ]
    }
   ],
   "source": [
    "word='What is the syllabus'\n",
    "\n",
    "tok_word=tokenizer.texts_to_sequences([word])[0]\n",
    "padd_seq=pad_sequences([tok_word],maxlen=95,padding=\"pre\")\n",
    "n=np.argmax(model.predict(padd_seq))\n",
    "for WORD,index in tokenizer.word_index.items():\n",
    "        if n==index:\n",
    "            print(WORD)"
   ]
  },
  {
   "cell_type": "code",
   "execution_count": null,
   "id": "593ba4c1",
   "metadata": {
    "papermill": {
     "duration": 0.296917,
     "end_time": "2024-07-09T14:40:19.893276",
     "exception": false,
     "start_time": "2024-07-09T14:40:19.596359",
     "status": "completed"
    },
    "tags": []
   },
   "outputs": [],
   "source": []
  },
  {
   "cell_type": "code",
   "execution_count": 21,
   "id": "cb176140",
   "metadata": {
    "execution": {
     "iopub.execute_input": "2024-07-09T14:40:20.556721Z",
     "iopub.status.busy": "2024-07-09T14:40:20.556249Z",
     "iopub.status.idle": "2024-07-09T14:40:20.564514Z",
     "shell.execute_reply": "2024-07-09T14:40:20.563004Z"
    },
    "papermill": {
     "duration": 0.379281,
     "end_time": "2024-07-09T14:40:20.567158",
     "exception": false,
     "start_time": "2024-07-09T14:40:20.187877",
     "status": "completed"
    },
    "tags": []
   },
   "outputs": [
    {
     "data": {
      "text/plain": [
       "6"
      ]
     },
     "execution_count": 21,
     "metadata": {},
     "output_type": "execute_result"
    }
   ],
   "source": [
    "n"
   ]
  },
  {
   "cell_type": "code",
   "execution_count": 22,
   "id": "67a5c9fe",
   "metadata": {
    "execution": {
     "iopub.execute_input": "2024-07-09T14:40:21.155894Z",
     "iopub.status.busy": "2024-07-09T14:40:21.155402Z",
     "iopub.status.idle": "2024-07-09T14:40:22.153333Z",
     "shell.execute_reply": "2024-07-09T14:40:22.151660Z"
    },
    "papermill": {
     "duration": 1.295822,
     "end_time": "2024-07-09T14:40:22.156790",
     "exception": false,
     "start_time": "2024-07-09T14:40:20.860968",
     "status": "completed"
    },
    "tags": []
   },
   "outputs": [
    {
     "name": "stdout",
     "output_type": "stream",
     "text": [
      "\u001b[1m1/1\u001b[0m \u001b[32m━━━━━━━━━━━━━━━━━━━━\u001b[0m\u001b[37m\u001b[0m \u001b[1m0s\u001b[0m 40ms/step\n",
      "the\n",
      "\u001b[1m1/1\u001b[0m \u001b[32m━━━━━━━━━━━━━━━━━━━━\u001b[0m\u001b[37m\u001b[0m \u001b[1m0s\u001b[0m 37ms/step\n",
      "time\n",
      "\u001b[1m1/1\u001b[0m \u001b[32m━━━━━━━━━━━━━━━━━━━━\u001b[0m\u001b[37m\u001b[0m \u001b[1m0s\u001b[0m 39ms/step\n",
      "duration\n",
      "\u001b[1m1/1\u001b[0m \u001b[32m━━━━━━━━━━━━━━━━━━━━\u001b[0m\u001b[37m\u001b[0m \u001b[1m0s\u001b[0m 42ms/step\n",
      "of\n",
      "\u001b[1m1/1\u001b[0m \u001b[32m━━━━━━━━━━━━━━━━━━━━\u001b[0m\u001b[37m\u001b[0m \u001b[1m0s\u001b[0m 40ms/step\n",
      "all\n",
      "\u001b[1m1/1\u001b[0m \u001b[32m━━━━━━━━━━━━━━━━━━━━\u001b[0m\u001b[37m\u001b[0m \u001b[1m0s\u001b[0m 39ms/step\n",
      "the\n",
      "\u001b[1m1/1\u001b[0m \u001b[32m━━━━━━━━━━━━━━━━━━━━\u001b[0m\u001b[37m\u001b[0m \u001b[1m0s\u001b[0m 36ms/step\n",
      "live\n",
      "\u001b[1m1/1\u001b[0m \u001b[32m━━━━━━━━━━━━━━━━━━━━\u001b[0m\u001b[37m\u001b[0m \u001b[1m0s\u001b[0m 36ms/step\n",
      "sessions\n",
      "\u001b[1m1/1\u001b[0m \u001b[32m━━━━━━━━━━━━━━━━━━━━\u001b[0m\u001b[37m\u001b[0m \u001b[1m0s\u001b[0m 43ms/step\n",
      "are\n",
      "\u001b[1m1/1\u001b[0m \u001b[32m━━━━━━━━━━━━━━━━━━━━\u001b[0m\u001b[37m\u001b[0m \u001b[1m0s\u001b[0m 39ms/step\n",
      "recorded\n"
     ]
    }
   ],
   "source": [
    "word='What is'\n",
    "for _ in range(10):\n",
    "    tok_word=tokenizer.texts_to_sequences([word])[0]\n",
    "    padd_seq=pad_sequences([tok_word],maxlen=95,padding=\"pre\")\n",
    "    n=np.argmax(model.predict(padd_seq))\n",
    "    for WORD,index in tokenizer.word_index.items():\n",
    "        if n==index:\n",
    "            print(WORD)\n",
    "            word=word+\" \"+WORD"
   ]
  },
  {
   "cell_type": "code",
   "execution_count": null,
   "id": "74507146",
   "metadata": {
    "papermill": {
     "duration": 0.296084,
     "end_time": "2024-07-09T14:40:22.754649",
     "exception": false,
     "start_time": "2024-07-09T14:40:22.458565",
     "status": "completed"
    },
    "tags": []
   },
   "outputs": [],
   "source": []
  },
  {
   "cell_type": "code",
   "execution_count": null,
   "id": "2be5f993",
   "metadata": {
    "papermill": {
     "duration": 0.307822,
     "end_time": "2024-07-09T14:40:23.363338",
     "exception": false,
     "start_time": "2024-07-09T14:40:23.055516",
     "status": "completed"
    },
    "tags": []
   },
   "outputs": [],
   "source": []
  },
  {
   "cell_type": "code",
   "execution_count": null,
   "id": "4b9aa7de",
   "metadata": {
    "papermill": {
     "duration": 0.294489,
     "end_time": "2024-07-09T14:40:23.964561",
     "exception": false,
     "start_time": "2024-07-09T14:40:23.670072",
     "status": "completed"
    },
    "tags": []
   },
   "outputs": [],
   "source": []
  }
 ],
 "metadata": {
  "kaggle": {
   "accelerator": "none",
   "dataSources": [],
   "dockerImageVersionId": 30732,
   "isGpuEnabled": false,
   "isInternetEnabled": false,
   "language": "python",
   "sourceType": "notebook"
  },
  "kernelspec": {
   "display_name": "Python 3",
   "language": "python",
   "name": "python3"
  },
  "language_info": {
   "codemirror_mode": {
    "name": "ipython",
    "version": 3
   },
   "file_extension": ".py",
   "mimetype": "text/x-python",
   "name": "python",
   "nbconvert_exporter": "python",
   "pygments_lexer": "ipython3",
   "version": "3.10.13"
  },
  "papermill": {
   "default_parameters": {},
   "duration": 226.000431,
   "end_time": "2024-07-09T14:40:25.998086",
   "environment_variables": {},
   "exception": null,
   "input_path": "__notebook__.ipynb",
   "output_path": "__notebook__.ipynb",
   "parameters": {},
   "start_time": "2024-07-09T14:36:39.997655",
   "version": "2.5.0"
  }
 },
 "nbformat": 4,
 "nbformat_minor": 5
}
